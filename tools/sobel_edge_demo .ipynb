{
  "nbformat": 4,
  "nbformat_minor": 0,
  "metadata": {
    "colab": {
      "provenance": []
    },
    "kernelspec": {
      "name": "python3",
      "display_name": "Python 3"
    },
    "language_info": {
      "name": "python"
    }
  },
  "cells": [
    {
      "cell_type": "markdown",
      "source": [
        "load the image → show the grayscale image"
      ],
      "metadata": {
        "id": "QdNSvQv0RxjL"
      }
    },
    {
      "cell_type": "code",
      "source": [
        "import cv2\n",
        "import numpy as np\n",
        "import matplotlib.pyplot as plt\n",
        "\n",
        "# Load the image in grayscale\n",
        "image = cv2.imread('change_img.png', cv2.IMREAD_GRAYSCALE)\n",
        "cv2.imwrite(\"grayscale_output.png\", image)\n",
        "#show the grayscale image\n",
        "plt.imshow(image, cmap='gray', vmin=0, vmax=255)\n",
        "plt.title(\"Grayscale Image from Text File\")\n",
        "plt.axis('off')\n",
        "plt.show()\n"
      ],
      "metadata": {
        "id": "-fWwxq-j33DD"
      },
      "execution_count": null,
      "outputs": []
    },
    {
      "cell_type": "markdown",
      "source": [
        "make a text file that saved the pixels, each pixel in a line"
      ],
      "metadata": {
        "id": "hlmjF_4DRHnO"
      }
    },
    {
      "cell_type": "code",
      "source": [
        "import numpy as np\n",
        "\n",
        "# Ensure NumPy prints the full array\n",
        "np.set_printoptions(threshold=np.inf)\n",
        "\n",
        "#print(image)\n",
        "# Flatten the image into a 1D stream\n",
        "pixel_stream = image.flatten()\n",
        "\n",
        "# Save as a text file, one value per line (decimal)\n",
        "np.savetxt('pixel_data.txt', pixel_stream, fmt='%d')\n"
      ],
      "metadata": {
        "id": "4qu9SmOrPHbx"
      },
      "execution_count": 3,
      "outputs": []
    },
    {
      "cell_type": "markdown",
      "source": [
        "make a text file (config.txt) that contains: threshold, image_width, image_height, total_pixel and 4 kernels"
      ],
      "metadata": {
        "id": "fKNmYHNPRRA4"
      }
    },
    {
      "cell_type": "code",
      "source": [
        "import matplotlib.pyplot as plt\n",
        "import cv2\n",
        "\n",
        "plt.hist(image.ravel(), bins=256, range=(0, 255))\n",
        "plt.title(\"Histogram of Pixel Values\")\n",
        "plt.xlabel(\"Pixel Intensity\")\n",
        "plt.ylabel(\"Frequency\")\n",
        "plt.show()\n",
        "\n",
        "otsu_value, _ = cv2.threshold(image, 0, 255, cv2.THRESH_BINARY + cv2.THRESH_OTSU)\n",
        "threshold = int(otsu_value)\n",
        "\n",
        "\n",
        "\n",
        "otsu_value, otsu_thresh = cv2.threshold(image, 0, 255, cv2.THRESH_BINARY + cv2.THRESH_OTSU)\n",
        "img_size_w = image.shape[1]\n",
        "img_size_h= image.shape[0]\n",
        "total_pixel = img_size_w*img_size_h\n",
        "\n",
        "# Configuration values with comments\n",
        "config_data = [\n",
        "    (threshold,      \"Threshold\"),\n",
        "    (img_size_w,      \"Image width\"),\n",
        "    (img_size_h,      \"Image height\"),\n",
        "    (total_pixel,   \"Total pixels\"),\n",
        "    (0,        \"Kernel1\"),\n",
        "    (0,        \"Kernel2\"),\n",
        "    (0,        \"Kernel3\"),\n",
        "    (0,        \"Kernel4\"),\n",
        "]\n",
        "\n",
        "# Open the file and write the values\n",
        "with open(\"config.txt\", \"w\") as f:\n",
        "    for value, comment in config_data:\n",
        "        f.write(f\"{value:<10} // {comment}\\n\")\n",
        "\n",
        "print(\"config.txt created successfully!\")\n",
        "\n"
      ],
      "metadata": {
        "id": "EZFordnxgab2"
      },
      "execution_count": null,
      "outputs": []
    },
    {
      "cell_type": "markdown",
      "source": [
        "Sobel Edge Detecion"
      ],
      "metadata": {
        "id": "6eK556-iRf3H"
      }
    },
    {
      "cell_type": "code",
      "source": [
        "import numpy as np\n",
        "import cv2\n",
        "import matplotlib.pyplot as plt\n",
        "\n",
        "# Define image size\n",
        "img_size_w = image.shape[1]\n",
        "img_size_h= image.shape[0]\n",
        "# Create a 100x100 image with values from 1 to 10000\n",
        "#print(\"  original pic\")\n",
        "#np.set_printoptions(threshold=np.inf)  # Ensure full array is printed\n",
        "#print(image)\n",
        "padded_image = np.pad(image, pad_width=1, mode='constant', constant_values=0)\n",
        "\n",
        "# Print the full 100x100 Sobel edge detection output\n",
        "#print(\" padding original pic\")\n",
        "#np.set_printoptions(threshold=np.inf)  # Ensure full array is printed\n",
        "#print(padded_image)\n",
        "\n",
        "\n",
        "# Define Sobel Kernels (3x3)\n",
        "\n",
        "sobel_x_kernel = np.array([[-1, 0, 1],\n",
        "                           [-2, 0, 2],\n",
        "                           [-1, 0, 1]])\n",
        "\n",
        "sobel_y_kernel = np.array([[-1, -2, -1],\n",
        "                            [0,  0,  0],\n",
        "                            [1,  2,  1]])\n",
        "\n",
        "sobel_diag_right_kernel = np.array([[ 0,  1,  2],\n",
        "                                     [-1,  0,  1],\n",
        "                                     [-2, -1,  0]])\n",
        "\n",
        "\n",
        "sobel_diag_left_kernel = np.array([[ -2,  -1,  0],\n",
        "                                    [ -1,  0, 1],\n",
        "                                    [ 0,1, 2]])\n",
        "\n",
        "# Initialize output arrays\n",
        "sobel_x = np.zeros_like(image, dtype=np.float32)\n",
        "sobel_y = np.zeros_like(image, dtype=np.float32)\n",
        "sobel_diag_right = np.zeros_like(image, dtype=np.float32)\n",
        "sobel_diag_left = np.zeros_like(image, dtype=np.float32)\n",
        "\n",
        "# Perform manual convolution\n",
        "for i in range(img_size_h):\n",
        "    for j in range(img_size_w):\n",
        "        # Extract the 3x3 region\n",
        "        region = padded_image[i:i+3, j:j+3]\n",
        "\n",
        "        # Apply each Sobel kernel\n",
        "        sobel_x[i, j] = np.sum(region * sobel_x_kernel)\n",
        "        sobel_y[i, j] = np.sum(region * sobel_y_kernel)\n",
        "        sobel_diag_right[i, j] = np.sum(region * sobel_diag_right_kernel)\n",
        "        sobel_diag_left[i, j] = np.sum(region * sobel_diag_left_kernel)\n",
        "\n",
        "# Compute absolute sum of all gradients\n",
        "sobel_magnitude = np.abs(sobel_x) + np.abs(sobel_y) + np.abs(sobel_diag_right) + np.abs(sobel_diag_left)\n",
        "\n",
        "# Apply thresholding\n",
        "#threshold = 110  # Set the threshold value\n",
        "#threshold = otsu_value\n",
        "sobel_magnitude = np.where(sobel_magnitude < threshold, 0, sobel_magnitude)  # Set values below threshold to 0\n",
        "\n",
        "# Clamp values to a maximum of 255\n",
        "sobel_magnitude = np.clip(sobel_magnitude, 0, 255).astype(np.uint8)\n",
        "\n",
        "\n",
        "#print(\"Sobel Edge Detection Output \")\n",
        "#np.set_printoptions(threshold=np.inf)  # Ensure full array is printed\n",
        "#print(sobel_magnitude)\n"
      ],
      "metadata": {
        "id": "O4MaES_YDhyZ"
      },
      "execution_count": null,
      "outputs": []
    },
    {
      "cell_type": "code",
      "source": [
        "# Flatten the image into a 1D stream\n",
        "pixel_stream = sobel_magnitude.flatten()\n",
        "\n",
        "# Save as a text file, one value per line (decimal)\n",
        "np.savetxt('sobel_magnitude.txt', pixel_stream, fmt='%d')"
      ],
      "metadata": {
        "id": "Qsxssbh8EeD8"
      },
      "execution_count": null,
      "outputs": []
    },
    {
      "cell_type": "code",
      "source": [
        "flat_pixels = np.loadtxt('sobel_magnitude.txt', dtype=np.uint8)\n",
        "image = flat_pixels.reshape((img_size_h, img_size_w))\n",
        "\n"
      ],
      "metadata": {
        "id": "dlUL-skBEU3s"
      },
      "execution_count": null,
      "outputs": []
    },
    {
      "cell_type": "code",
      "source": [
        "import matplotlib.pyplot as plt\n",
        "\n",
        "plt.imshow(image, cmap='gray', vmin=0, vmax=255)\n",
        "plt.title(\"Image after Sobel Edge Detection- Python\")\n",
        "plt.axis('off')\n",
        "plt.show()\n"
      ],
      "metadata": {
        "id": "vsFYG82xEw2Y"
      },
      "execution_count": null,
      "outputs": []
    },
    {
      "cell_type": "markdown",
      "source": [
        "Take the hardware edge output → Reconstruct the image → Display it."
      ],
      "metadata": {
        "id": "TYN7yC0qODlC"
      }
    },
    {
      "cell_type": "code",
      "source": [
        "flat_pixels_hardware = np.loadtxt('edge_output_flower.txt', dtype=np.uint8)\n",
        "image_hardware = flat_pixels_hardware.reshape((img_size_h, img_size_w))\n",
        "\n",
        "\n",
        "import matplotlib.pyplot as plt\n",
        "\n",
        "plt.imshow(image_hardware, cmap='gray', vmin=0, vmax=255)\n",
        "plt.title(\"Image after Sobel Edge Detection- Hardware\")\n",
        "plt.axis('off')\n",
        "plt.show()"
      ],
      "metadata": {
        "id": "k--Zfi8FvppG"
      },
      "execution_count": null,
      "outputs": []
    },
    {
      "cell_type": "code",
      "source": [],
      "metadata": {
        "id": "TxED4iVW8li6"
      },
      "execution_count": null,
      "outputs": []
    }
  ]
}